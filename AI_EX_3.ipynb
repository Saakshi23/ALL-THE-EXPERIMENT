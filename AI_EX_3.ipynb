{
  "nbformat": 4,
  "nbformat_minor": 0,
  "metadata": {
    "colab": {
      "provenance": [],
      "authorship_tag": "ABX9TyOeu1jfFB8XrZCksDLiteY8",
      "include_colab_link": true
    },
    "kernelspec": {
      "name": "python3",
      "display_name": "Python 3"
    },
    "language_info": {
      "name": "python"
    }
  },
  "cells": [
    {
      "cell_type": "markdown",
      "metadata": {
        "id": "view-in-github",
        "colab_type": "text"
      },
      "source": [
        "<a href=\"https://colab.research.google.com/github/Saakshi23/ALL-THE-EXPERIMENT/blob/main/AI_EX_3.ipynb\" target=\"_parent\"><img src=\"https://colab.research.google.com/assets/colab-badge.svg\" alt=\"Open In Colab\"/></a>"
      ]
    },
    {
      "cell_type": "code",
      "execution_count": 1,
      "metadata": {
        "colab": {
          "base_uri": "https://localhost:8080/"
        },
        "id": "4IlAWAi58hXV",
        "outputId": "82fdcf7b-f843-4f20-b8d7-da916914cec4"
      },
      "outputs": [
        {
          "output_type": "stream",
          "name": "stdout",
          "text": [
            "Enter the number of nodes: 3\n",
            "Enter node: A\n",
            "Enter the number of neighbors for A: 2\n",
            "Enter neighbor and heuristic value (comma separated) for A: B,3\n",
            "Enter neighbor and heuristic value (comma separated) for A: C,5\n",
            "Enter node: B\n",
            "Enter the number of neighbors for B: 1\n",
            "Enter neighbor and heuristic value (comma separated) for B: D, 2\n",
            "Enter node: C\n",
            "Enter the number of neighbors for C: 1\n",
            "Enter neighbor and heuristic value (comma separated) for C: D, 4\n",
            "Enter the start node: A\n",
            "Enter the goal node: D\n",
            "Path found: A -> C -> D\n"
          ]
        }
      ],
      "source": [
        "class Graph:\n",
        "    def __init__(self):\n",
        "        self.graph = {}\n",
        "\n",
        "    def add_edge(self, node, neighbors):\n",
        "        self.graph[node] = neighbors\n",
        "\n",
        "def greedy_search(graph, start, goal):\n",
        "    visited = set()\n",
        "    path = [start]\n",
        "    while path:\n",
        "        current_node = path[-1]\n",
        "        if current_node == goal:\n",
        "            return path\n",
        "        if current_node not in visited:\n",
        "            visited.add(current_node)\n",
        "            neighbors = graph.graph[current_node]\n",
        "            next_node = max(neighbors, key=lambda x: neighbors[x])\n",
        "            if neighbors[next_node] == 0:\n",
        "                return None  # No path to goal\n",
        "            path.append(next_node)\n",
        "        else:\n",
        "            path.pop()\n",
        "    return None  # No path found\n",
        "\n",
        "def main():\n",
        "    graph = Graph()\n",
        "\n",
        "    # Taking input from the user for the graph\n",
        "    num_nodes = int(input(\"Enter the number of nodes: \"))\n",
        "    for _ in range(num_nodes):\n",
        "        node = input(\"Enter node: \")\n",
        "        neighbors = {}\n",
        "        num_neighbors = int(input(\"Enter the number of neighbors for {}: \".format(node)))\n",
        "        for _ in range(num_neighbors):\n",
        "            neighbor, heuristic = input(\"Enter neighbor and heuristic value (comma separated) for {}: \".format(node)).split(',')\n",
        "            neighbors[neighbor] = int(heuristic)\n",
        "        graph.add_edge(node, neighbors)\n",
        "\n",
        "    start_node = input(\"Enter the start node: \")\n",
        "    goal_node = input(\"Enter the goal node: \")\n",
        "\n",
        "    # Performing Greedy Search\n",
        "    result = greedy_search(graph, start_node, goal_node)\n",
        "\n",
        "    # Displaying the result\n",
        "    if result:\n",
        "        print(\"Path found:\", ' -> '.join(result))\n",
        "    else:\n",
        "        print(\"No path found.\")\n",
        "\n",
        "if __name__ == \"__main__\":\n",
        "    main()\n"
      ]
    }
  ]
}