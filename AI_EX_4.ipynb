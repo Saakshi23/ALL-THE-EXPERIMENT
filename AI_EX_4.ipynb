{
  "nbformat": 4,
  "nbformat_minor": 0,
  "metadata": {
    "colab": {
      "provenance": [],
      "authorship_tag": "ABX9TyNpq9KHXlXwhLvNWuEM6m6/",
      "include_colab_link": true
    },
    "kernelspec": {
      "name": "python3",
      "display_name": "Python 3"
    },
    "language_info": {
      "name": "python"
    }
  },
  "cells": [
    {
      "cell_type": "markdown",
      "metadata": {
        "id": "view-in-github",
        "colab_type": "text"
      },
      "source": [
        "<a href=\"https://colab.research.google.com/github/Saakshi23/ALL-THE-EXPERIMENT/blob/main/AI_EX_4.ipynb\" target=\"_parent\"><img src=\"https://colab.research.google.com/assets/colab-badge.svg\" alt=\"Open In Colab\"/></a>"
      ]
    },
    {
      "cell_type": "code",
      "source": [
        "def aStarAlgo(start_node, stop_node):\n",
        "    open_set = set([start_node])\n",
        "    closed_set = set()\n",
        "    g = {start_node: 0}  # store distance from starting node\n",
        "    parents = {start_node: start_node}  # parents contains an adjacency map of all nodes\n",
        "\n",
        "    while len(open_set) > 0:\n",
        "        n = None\n",
        "        # node with lowest f() is found\n",
        "        for v in open_set:\n",
        "            if n is None or g[v] + heuristic(v) < g[n] + heuristic(n):\n",
        "                n = v\n",
        "\n",
        "        if n is None:\n",
        "            print('Path does not exist!')\n",
        "            return None\n",
        "\n",
        "        if n == stop_node:\n",
        "            path = []\n",
        "            while parents[n] != n:\n",
        "                path.append(n)\n",
        "                n = parents[n]\n",
        "            path.append(start_node)\n",
        "            path.reverse()\n",
        "            print('Path found: {}'.format(path))\n",
        "            return path\n",
        "\n",
        "        open_set.remove(n)\n",
        "        closed_set.add(n)\n",
        "\n",
        "        for (m, weight) in get_neighbors(n):\n",
        "            if m in closed_set:\n",
        "                continue\n",
        "\n",
        "            if m not in open_set:\n",
        "                open_set.add(m)\n",
        "\n",
        "            if g.get(m, float('inf')) > g[n] + weight:\n",
        "                g[m] = g[n] + weight\n",
        "                parents[m] = n\n",
        "\n",
        "    print('Path does not exist!')\n",
        "    return None\n",
        "\n",
        "def get_neighbors(v):\n",
        "    if v in Graph_nodes:\n",
        "        return Graph_nodes[v]\n",
        "    else:\n",
        "        return None\n",
        "\n",
        "def heuristic(n):\n",
        "    H_dist = {'A': 11, 'B': 6, 'C': 99, 'D': 1, 'E': 7, 'G': 0}\n",
        "    return H_dist[n]\n",
        "\n",
        "# Describe your graph here\n",
        "Graph_nodes = {\n",
        "    'A': [('B', 2), ('E', 3)],\n",
        "    'B': [('C', 1), ('G', 9)],\n",
        "    'C': None,\n",
        "    'E': [('D', 6)],\n",
        "    'D': [('G', 1)],\n",
        "}\n",
        "\n",
        "start_node = input(\"Enter the start node: \")\n",
        "stop_node = input(\"Enter the stop node: \")\n",
        "\n",
        "print(\"Finding the shortest path...\")\n",
        "path = aStarAlgo(start_node, stop_node)\n",
        "if path:\n",
        "    print(\"Shortest path:\", path)\n"
      ],
      "metadata": {
        "colab": {
          "base_uri": "https://localhost:8080/"
        },
        "id": "pHosusqcQzwz",
        "outputId": "2c28425b-50d6-4f6b-e790-ba918cb9b902"
      },
      "execution_count": 5,
      "outputs": [
        {
          "output_type": "stream",
          "name": "stdout",
          "text": [
            "Enter the start node: A\n",
            "Enter the stop node: G\n",
            "Finding the shortest path...\n",
            "Path found: ['A', 'E', 'D', 'G']\n",
            "Shortest path: ['A', 'E', 'D', 'G']\n"
          ]
        }
      ]
    }
  ]
}