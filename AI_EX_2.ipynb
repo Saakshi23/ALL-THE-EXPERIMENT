{
  "nbformat": 4,
  "nbformat_minor": 0,
  "metadata": {
    "colab": {
      "provenance": [],
      "authorship_tag": "ABX9TyMZJdlc/84Dbzr/tbsqbwKH",
      "include_colab_link": true
    },
    "kernelspec": {
      "name": "python3",
      "display_name": "Python 3"
    },
    "language_info": {
      "name": "python"
    }
  },
  "cells": [
    {
      "cell_type": "markdown",
      "metadata": {
        "id": "view-in-github",
        "colab_type": "text"
      },
      "source": [
        "<a href=\"https://colab.research.google.com/github/Saakshi23/ALL-THE-EXPERIMENT/blob/main/AI_EX_2.ipynb\" target=\"_parent\"><img src=\"https://colab.research.google.com/assets/colab-badge.svg\" alt=\"Open In Colab\"/></a>"
      ]
    },
    {
      "cell_type": "code",
      "execution_count": 1,
      "metadata": {
        "id": "7ITVQN_v0oBd",
        "colab": {
          "base_uri": "https://localhost:8080/",
          "height": 574
        },
        "outputId": "b163ab3f-2c48-4649-fd09-3f2c424f4d72"
      },
      "outputs": [
        {
          "output_type": "stream",
          "name": "stdout",
          "text": [
            "Enter the number of nodes: 3\n",
            "Enter node: A\n",
            "Enter neighbors (comma-separated): B,C\n",
            "Enter node: B\n",
            "Enter neighbors (comma-separated): D,E\n",
            "Enter node: C\n",
            "Enter neighbors (comma-separated): F\n",
            "Enter the start node: A\n",
            "Enter the goal node: F\n",
            "\n",
            "Starting DFS from A to F:\n",
            "Visiting node: A\n",
            "Visiting node: B\n",
            "Visiting node: D\n"
          ]
        },
        {
          "output_type": "error",
          "ename": "KeyError",
          "evalue": "'D'",
          "traceback": [
            "\u001b[0;31m---------------------------------------------------------------------------\u001b[0m",
            "\u001b[0;31mKeyError\u001b[0m                                  Traceback (most recent call last)",
            "\u001b[0;32m<ipython-input-1-a962b8f94162>\u001b[0m in \u001b[0;36m<cell line: 37>\u001b[0;34m()\u001b[0m\n\u001b[1;32m     42\u001b[0m \u001b[0;34m\u001b[0m\u001b[0m\n\u001b[1;32m     43\u001b[0m     \u001b[0mprint\u001b[0m\u001b[0;34m(\u001b[0m\u001b[0;34mf\"\\nStarting DFS from {start_node} to {goal_node}:\"\u001b[0m\u001b[0;34m)\u001b[0m\u001b[0;34m\u001b[0m\u001b[0;34m\u001b[0m\u001b[0m\n\u001b[0;32m---> 44\u001b[0;31m     \u001b[0muser_graph\u001b[0m\u001b[0;34m.\u001b[0m\u001b[0mdfs\u001b[0m\u001b[0;34m(\u001b[0m\u001b[0mstart_node\u001b[0m\u001b[0;34m,\u001b[0m \u001b[0mgoal_node\u001b[0m\u001b[0;34m)\u001b[0m\u001b[0;34m\u001b[0m\u001b[0;34m\u001b[0m\u001b[0m\n\u001b[0m",
            "\u001b[0;32m<ipython-input-1-a962b8f94162>\u001b[0m in \u001b[0;36mdfs\u001b[0;34m(self, start, goal)\u001b[0m\n\u001b[1;32m     18\u001b[0m                 \u001b[0mprint\u001b[0m\u001b[0;34m(\u001b[0m\u001b[0;34m\"Visiting node:\"\u001b[0m\u001b[0;34m,\u001b[0m \u001b[0mcurrent_node\u001b[0m\u001b[0;34m)\u001b[0m\u001b[0;34m\u001b[0m\u001b[0;34m\u001b[0m\u001b[0m\n\u001b[1;32m     19\u001b[0m                 \u001b[0mvisited\u001b[0m\u001b[0;34m.\u001b[0m\u001b[0madd\u001b[0m\u001b[0;34m(\u001b[0m\u001b[0mcurrent_node\u001b[0m\u001b[0;34m)\u001b[0m\u001b[0;34m\u001b[0m\u001b[0;34m\u001b[0m\u001b[0m\n\u001b[0;32m---> 20\u001b[0;31m                 \u001b[0mstack\u001b[0m\u001b[0;34m.\u001b[0m\u001b[0mextend\u001b[0m\u001b[0;34m(\u001b[0m\u001b[0mneighbor\u001b[0m \u001b[0;32mfor\u001b[0m \u001b[0mneighbor\u001b[0m \u001b[0;32min\u001b[0m \u001b[0mreversed\u001b[0m\u001b[0;34m(\u001b[0m\u001b[0mself\u001b[0m\u001b[0;34m.\u001b[0m\u001b[0mgraph\u001b[0m\u001b[0;34m[\u001b[0m\u001b[0mcurrent_node\u001b[0m\u001b[0;34m]\u001b[0m\u001b[0;34m)\u001b[0m \u001b[0;32mif\u001b[0m \u001b[0mneighbor\u001b[0m \u001b[0;32mnot\u001b[0m \u001b[0;32min\u001b[0m \u001b[0mvisited\u001b[0m\u001b[0;34m)\u001b[0m\u001b[0;34m\u001b[0m\u001b[0;34m\u001b[0m\u001b[0m\n\u001b[0m\u001b[1;32m     21\u001b[0m         \u001b[0mprint\u001b[0m\u001b[0;34m(\u001b[0m\u001b[0;34m\"Goal not reached.\"\u001b[0m\u001b[0;34m)\u001b[0m\u001b[0;34m\u001b[0m\u001b[0;34m\u001b[0m\u001b[0m\n\u001b[1;32m     22\u001b[0m         \u001b[0;32mreturn\u001b[0m \u001b[0;32mFalse\u001b[0m\u001b[0;34m\u001b[0m\u001b[0;34m\u001b[0m\u001b[0m\n",
            "\u001b[0;31mKeyError\u001b[0m: 'D'"
          ]
        }
      ],
      "source": [
        "class Graph:\n",
        "    def __init__(self):\n",
        "        self.graph = {}\n",
        "\n",
        "    def add_edge(self, node, neighbors):\n",
        "        self.graph[node] = neighbors\n",
        "\n",
        "    def dfs(self, start, goal):\n",
        "        visited = set()\n",
        "        stack = [start]\n",
        "\n",
        "        while stack:\n",
        "            current_node = stack.pop()\n",
        "            if current_node == goal:\n",
        "                print(\"Goal reached!\")\n",
        "                return True\n",
        "            if current_node not in visited:\n",
        "                print(\"Visiting node:\", current_node)\n",
        "                visited.add(current_node)\n",
        "                stack.extend(neighbor for neighbor in reversed(self.graph[current_node]) if neighbor not in visited)\n",
        "        print(\"Goal not reached.\")\n",
        "        return False\n",
        "\n",
        "\n",
        "def create_graph():\n",
        "    graph = Graph()\n",
        "    nodes = int(input(\"Enter the number of nodes: \"))\n",
        "\n",
        "    for _ in range(nodes):\n",
        "        node = input(\"Enter node: \")\n",
        "        neighbors = input(\"Enter neighbors (comma-separated): \").split(',')\n",
        "        graph.add_edge(node, neighbors)\n",
        "\n",
        "    return graph\n",
        "\n",
        "\n",
        "if __name__ == \"__main__\":\n",
        "    user_graph = create_graph()\n",
        "\n",
        "    start_node = input(\"Enter the start node: \")\n",
        "    goal_node = input(\"Enter the goal node: \")\n",
        "\n",
        "    print(f\"\\nStarting DFS from {start_node} to {goal_node}:\")\n",
        "    user_graph.dfs(start_node, goal_node)\n"
      ]
    }
  ]
}