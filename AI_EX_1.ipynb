{
  "nbformat": 4,
  "nbformat_minor": 0,
  "metadata": {
    "colab": {
      "provenance": [],
      "authorship_tag": "ABX9TyMLpvgk4Ax4y/AmlUX0gHyc",
      "include_colab_link": true
    },
    "kernelspec": {
      "name": "python3",
      "display_name": "Python 3"
    },
    "language_info": {
      "name": "python"
    }
  },
  "cells": [
    {
      "cell_type": "markdown",
      "metadata": {
        "id": "view-in-github",
        "colab_type": "text"
      },
      "source": [
        "<a href=\"https://colab.research.google.com/github/Saakshi23/ALL-THE-EXPERIMENT/blob/main/AI_EX_1.ipynb\" target=\"_parent\"><img src=\"https://colab.research.google.com/assets/colab-badge.svg\" alt=\"Open In Colab\"/></a>"
      ]
    },
    {
      "cell_type": "code",
      "execution_count": null,
      "metadata": {
        "colab": {
          "base_uri": "https://localhost:8080/"
        },
        "id": "O50AmAg2Qvjy",
        "outputId": "7e9ea8a2-e36e-4c49-b1d6-5c6ebb381d30"
      },
      "outputs": [
        {
          "output_type": "stream",
          "name": "stdout",
          "text": [
            "Enter the number of edges: 6\n",
            "Enter edge (node neighbor): 1 3\n",
            "Enter edge (node neighbor): 2  5\n",
            "Enter edge (node neighbor): 3 7\n",
            "Enter edge (node neighbor): 4 9\n",
            "Enter edge (node neighbor): 5 4\n",
            "Enter edge (node neighbor): 6 8\n",
            "Enter the starting node for BFS: 1\n",
            "BFS Traversal:\n",
            "1 3 7 "
          ]
        }
      ],
      "source": [
        "from collections import defaultdict, deque\n",
        "\n",
        "class Graph:\n",
        "    def __init__(self):\n",
        "        self.graph = defaultdict(list)\n",
        "\n",
        "    def add_edge(self, node, neighbor):\n",
        "        self.graph[node].append(neighbor)\n",
        "\n",
        "    def bfs(self, start):\n",
        "        visited = set()\n",
        "        queue = deque([start])\n",
        "        visited.add(start)\n",
        "\n",
        "        while queue:\n",
        "            current_node = queue.popleft()\n",
        "            print(current_node, end=' ')\n",
        "\n",
        "            for neighbor in self.graph[current_node]:\n",
        "                if neighbor not in visited:\n",
        "                    queue.append(neighbor)\n",
        "                    visited.add(neighbor)\n",
        "\n",
        "# Take input from the user to build the graph\n",
        "graph = Graph()\n",
        "num_edges = int(input(\"Enter the number of edges: \"))\n",
        "\n",
        "for _ in range(num_edges):\n",
        "    node, neighbor = map(int, input(\"Enter edge (node neighbor): \").split())\n",
        "    graph.add_edge(node, neighbor)\n",
        "\n",
        "# Take input from the user to start BFS traversal\n",
        "start_node = int(input(\"Enter the starting node for BFS: \"))\n",
        "\n",
        "# Perform BFS starting from the user-provided node\n",
        "print(\"BFS Traversal:\")\n",
        "graph.bfs(start_node)\n"
      ]
    }
  ]
}