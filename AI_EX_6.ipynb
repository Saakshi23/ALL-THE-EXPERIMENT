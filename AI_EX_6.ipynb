{
  "nbformat": 4,
  "nbformat_minor": 0,
  "metadata": {
    "colab": {
      "provenance": [],
      "authorship_tag": "ABX9TyM8zoiO7hNoLdndu14/66gt",
      "include_colab_link": true
    },
    "kernelspec": {
      "name": "python3",
      "display_name": "Python 3"
    },
    "language_info": {
      "name": "python"
    }
  },
  "cells": [
    {
      "cell_type": "markdown",
      "metadata": {
        "id": "view-in-github",
        "colab_type": "text"
      },
      "source": [
        "<a href=\"https://colab.research.google.com/github/Saakshi23/ALL-THE-EXPERIMENT/blob/main/AI_EX_6.ipynb\" target=\"_parent\"><img src=\"https://colab.research.google.com/assets/colab-badge.svg\" alt=\"Open In Colab\"/></a>"
      ]
    },
    {
      "cell_type": "code",
      "source": [
        "class PuzzleSolver:\n",
        "    def __init__(self):\n",
        "        self.goal_state = (1, 2, 3, 4, 5, 6, 7, 8, 0)\n",
        "        self.moves = {\n",
        "            0: [1, 3],\n",
        "            1: [0, 2, 4],\n",
        "            2: [1, 5],\n",
        "            3: [0, 4, 6],\n",
        "            4: [1, 3, 5, 7],\n",
        "            5: [2, 4, 8],\n",
        "            6: [3, 7],\n",
        "            7: [4, 6, 8],\n",
        "            8: [5, 7]\n",
        "        }\n",
        "\n",
        "    def solve(self, initial_state):\n",
        "        queue = [(initial_state, \"\")]\n",
        "        visited = set()\n",
        "\n",
        "        while queue:\n",
        "            state, path = queue.pop(0)\n",
        "            if state == self.goal_state:\n",
        "                return path\n",
        "            visited.add(state)\n",
        "            empty_tile_index = state.index(0)\n",
        "            for move in self.moves[empty_tile_index]:\n",
        "                new_state = list(state)\n",
        "                new_state[empty_tile_index], new_state[move] = new_state[move], new_state[empty_tile_index]\n",
        "                new_state = tuple(new_state)\n",
        "                if new_state not in visited:\n",
        "                    queue.append((new_state, path + str(move)))\n",
        "        return \"No solution found\"\n",
        "\n",
        "def input_puzzle():\n",
        "    print(\"Enter the initial state of the puzzle (3x3) separated by spaces (use 0 to represent the blank tile):\")\n",
        "    puzzle = []\n",
        "    for _ in range(3):\n",
        "        row = list(map(int, input().split()))\n",
        "        puzzle.extend(row)\n",
        "    return tuple(puzzle)\n",
        "\n",
        "def print_puzzle(state):\n",
        "    for i in range(0, 9, 3):\n",
        "        print(state[i:i+3])\n",
        "\n",
        "if __name__ == \"__main__\":\n",
        "    solver = PuzzleSolver()\n",
        "    initial_state = input_puzzle()\n",
        "    print(\"Initial state of the puzzle:\")\n",
        "    print_puzzle(initial_state)\n",
        "    solution = solver.solve(initial_state)\n",
        "    print(\"Solution:\", solution)\n"
      ],
      "metadata": {
        "colab": {
          "base_uri": "https://localhost:8080/"
        },
        "id": "O63c43I9lDIv",
        "outputId": "83f75158-88b8-4acb-f501-d49273303a25"
      },
      "execution_count": 11,
      "outputs": [
        {
          "output_type": "stream",
          "name": "stdout",
          "text": [
            "Enter the initial state of the puzzle (3x3) separated by spaces (use 0 to represent the blank tile):\n",
            "1 2 3\n",
            "4 5 0\n",
            "7 8 6\n",
            "Initial state of the puzzle:\n",
            "(1, 2, 3)\n",
            "(4, 5, 0)\n",
            "(7, 8, 6)\n",
            "Solution: 8\n"
          ]
        }
      ]
    }
  ]
}